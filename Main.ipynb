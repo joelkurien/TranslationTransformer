{
 "cells": [
  {
   "cell_type": "code",
   "execution_count": 12,
   "metadata": {},
   "outputs": [],
   "source": [
    "from DataEncoding import DataEncoding\n",
    "from torch import nn\n",
    "from Operations import Operations\n",
    "from Encoder import Encoder\n",
    "from Decoder import Decoder"
   ]
  },
  {
   "cell_type": "code",
   "execution_count": 13,
   "metadata": {},
   "outputs": [
    {
     "data": {
      "application/vnd.jupyter.widget-view+json": {
       "model_id": "964270a035c245b4a27961bbefd13e32",
       "version_major": 2,
       "version_minor": 0
      },
      "text/plain": [
       "Resolving data files:   0%|          | 0/30 [00:00<?, ?it/s]"
      ]
     },
     "metadata": {},
     "output_type": "display_data"
    },
    {
     "data": {
      "application/vnd.jupyter.widget-view+json": {
       "model_id": "cfed245fd61d42858485bd3e2066df42",
       "version_major": 2,
       "version_minor": 0
      },
      "text/plain": [
       "Loading dataset shards:   0%|          | 0/30 [00:00<?, ?it/s]"
      ]
     },
     "metadata": {},
     "output_type": "display_data"
    }
   ],
   "source": [
    "from datasets import load_dataset\n",
    "ds = load_dataset(\"wmt/wmt14\", \"fr-en\", split=\"train\", num_proc=4)"
   ]
  },
  {
   "cell_type": "code",
   "execution_count": 14,
   "metadata": {},
   "outputs": [],
   "source": [
    "translation = ds[\"translation\"][:3]\n",
    "english = [sentence[\"en\"] for sentence in translation]\n",
    "french = [sentence[\"fr\"] for sentence in translation]\n"
   ]
  },
  {
   "cell_type": "code",
   "execution_count": 15,
   "metadata": {},
   "outputs": [],
   "source": [
    "from concurrent.futures import ThreadPoolExecutor\n",
    "\n",
    "# Function to encode data\n",
    "def encode_data(data, encoder):\n",
    "    return encoder.input_data()\n",
    "\n",
    "# Create thread pool for parallel processing\n",
    "with ThreadPoolExecutor(max_workers=2) as executor:\n",
    "    eng_future = executor.submit(encode_data, english, DataEncoding(english))\n",
    "    fr_future = executor.submit(encode_data, french, DataEncoding(french))\n",
    "\n",
    "    eng_embedded = eng_future.result()\n",
    "    fr_embedded = fr_future.result()"
   ]
  },
  {
   "cell_type": "code",
   "execution_count": 17,
   "metadata": {},
   "outputs": [],
   "source": [
    "class Transformer:\n",
    "    def __init__(self, encoder_layers: int, decoder_layers: int):\n",
    "        self.encoder_layers = encoder_layers\n",
    "        self.decoder_layers = decoder_layers\n",
    "        self.encoder_weights = [[0,0,0,0]]*self.encoder_layers\n",
    "        self.decoder_mask_weights = [[0,0,0,0]]*self.decoder_layers\n",
    "        self.decoder_weights = [[0,0,0,0]]*self.decoder_layers\n",
    "        self.operation = Operations()\n",
    "    \n",
    "    def forward(self, eng_embedded, fr_embedded):\n",
    "        encoder = Encoder()\n",
    "        decoder = Decoder()\n",
    "        \n",
    "        for i in range(self.encoder_layers):\n",
    "            Wqe, Wke, Wve, Woe = self.operation.generate_self_weights_QKV(eng_embedded)\n",
    "            self.encoder_weights[i] = [Wqe, Wke, Wve, Woe]\n",
    "                    \n",
    "        for i in range(self.decoder_layers):\n",
    "            Wqmd, Wkmd, Wvmd, Womd = self.operation.generate_self_weights_QKV(fr_embedded)\n",
    "            self.decoder_mask_weights[i] = [Wqmd, Wkmd, Wvmd, Womd]\n",
    "            \n",
    "            Wqd, Wkd, Wvd, Wod = self.operation.generate_cross_weights_QKV(fr_embedded, eng_embedded)\n",
    "            self.decoder_weights[i] = [Wqd, Wkd, Wvd, Wod]\n",
    "        \n",
    "        outpt_probs = None  \n",
    "        for layer in range(self.encoder_layers):\n",
    "                eng_embedded = encoder.forward(eng_embedded, self.encoder_weights[layer])\n",
    "            \n",
    "        for _ in range(self.decoder_layers):\n",
    "            fr_embedded = decoder.forward(fr_embedded, eng_embedded, self.decoder_weights[layer], self.decoder_mask_weights[layer])\n",
    "    \n",
    "        fr_embedded = nn.Linear.forward(fr_embedded)\n",
    "        outpt_probs = nn.Softmax.forward(fr_embedded)\n",
    "        \n",
    "        return outpt_probs\n",
    "    \n",
    "    def train(self, eng_embedded, fr_embedded):\n",
    "        outpt_probs = self.forward(eng_embedded, fr_embedded)\n",
    "        return outpt_probs\n",
    "        "
   ]
  },
  {
   "cell_type": "code",
   "execution_count": 18,
   "metadata": {},
   "outputs": [
    {
     "name": "stdout",
     "output_type": "stream",
     "text": [
      "YES\n",
      "tensor([], size=(0, 37, 512), grad_fn=<SliceBackward0>)\n"
     ]
    },
    {
     "ename": "IndexError",
     "evalue": "index 0 is out of bounds for dimension 0 with size 0",
     "output_type": "error",
     "traceback": [
      "\u001b[1;31m---------------------------------------------------------------------------\u001b[0m",
      "\u001b[1;31mIndexError\u001b[0m                                Traceback (most recent call last)",
      "Cell \u001b[1;32mIn[18], line 2\u001b[0m\n\u001b[0;32m      1\u001b[0m transformer \u001b[38;5;241m=\u001b[39m Transformer(encoder_layers\u001b[38;5;241m=\u001b[39m\u001b[38;5;241m6\u001b[39m, decoder_layers\u001b[38;5;241m=\u001b[39m\u001b[38;5;241m6\u001b[39m)\n\u001b[1;32m----> 2\u001b[0m outpt_probs \u001b[38;5;241m=\u001b[39m \u001b[43mtransformer\u001b[49m\u001b[38;5;241;43m.\u001b[39;49m\u001b[43mtrain\u001b[49m\u001b[43m(\u001b[49m\u001b[43meng_embedded\u001b[49m\u001b[43m,\u001b[49m\u001b[43m \u001b[49m\u001b[43mfr_embedded\u001b[49m\u001b[43m)\u001b[49m\n\u001b[0;32m      3\u001b[0m \u001b[38;5;28mprint\u001b[39m(outpt_probs)\n",
      "Cell \u001b[1;32mIn[17], line 38\u001b[0m, in \u001b[0;36mTransformer.train\u001b[1;34m(self, eng_embedded, fr_embedded)\u001b[0m\n\u001b[0;32m     37\u001b[0m \u001b[38;5;28;01mdef\u001b[39;00m \u001b[38;5;21mtrain\u001b[39m(\u001b[38;5;28mself\u001b[39m, eng_embedded, fr_embedded):\n\u001b[1;32m---> 38\u001b[0m     outpt_probs \u001b[38;5;241m=\u001b[39m \u001b[38;5;28;43mself\u001b[39;49m\u001b[38;5;241;43m.\u001b[39;49m\u001b[43mforward\u001b[49m\u001b[43m(\u001b[49m\u001b[43meng_embedded\u001b[49m\u001b[43m,\u001b[49m\u001b[43m \u001b[49m\u001b[43mfr_embedded\u001b[49m\u001b[43m)\u001b[49m\n\u001b[0;32m     39\u001b[0m     \u001b[38;5;28;01mreturn\u001b[39;00m outpt_probs\n",
      "Cell \u001b[1;32mIn[17], line 27\u001b[0m, in \u001b[0;36mTransformer.forward\u001b[1;34m(self, eng_embedded, fr_embedded)\u001b[0m\n\u001b[0;32m     25\u001b[0m outpt_probs \u001b[38;5;241m=\u001b[39m \u001b[38;5;28;01mNone\u001b[39;00m  \n\u001b[0;32m     26\u001b[0m \u001b[38;5;28;01mfor\u001b[39;00m layer \u001b[38;5;129;01min\u001b[39;00m \u001b[38;5;28mrange\u001b[39m(\u001b[38;5;28mself\u001b[39m\u001b[38;5;241m.\u001b[39mencoder_layers):\n\u001b[1;32m---> 27\u001b[0m         eng_embedded \u001b[38;5;241m=\u001b[39m \u001b[43mencoder\u001b[49m\u001b[38;5;241;43m.\u001b[39;49m\u001b[43mforward\u001b[49m\u001b[43m(\u001b[49m\u001b[43meng_embedded\u001b[49m\u001b[43m,\u001b[49m\u001b[43m \u001b[49m\u001b[38;5;28;43mself\u001b[39;49m\u001b[38;5;241;43m.\u001b[39;49m\u001b[43mencoder_weights\u001b[49m\u001b[43m[\u001b[49m\u001b[43mlayer\u001b[49m\u001b[43m]\u001b[49m\u001b[43m)\u001b[49m\n\u001b[0;32m     29\u001b[0m \u001b[38;5;28;01mfor\u001b[39;00m _ \u001b[38;5;129;01min\u001b[39;00m \u001b[38;5;28mrange\u001b[39m(\u001b[38;5;28mself\u001b[39m\u001b[38;5;241m.\u001b[39mdecoder_layers):\n\u001b[0;32m     30\u001b[0m     fr_embedded \u001b[38;5;241m=\u001b[39m decoder\u001b[38;5;241m.\u001b[39mforward(fr_embedded, eng_embedded, \u001b[38;5;28mself\u001b[39m\u001b[38;5;241m.\u001b[39mdecoder_weights[layer], \u001b[38;5;28mself\u001b[39m\u001b[38;5;241m.\u001b[39mdecoder_mask_weights[layer])\n",
      "File \u001b[1;32mc:\\Users\\susan\\OneDrive\\Documents\\ML Projects\\Transformer\\Encoder.py:10\u001b[0m, in \u001b[0;36mEncoder.forward\u001b[1;34m(self, query, weights)\u001b[0m\n\u001b[0;32m      8\u001b[0m attn \u001b[38;5;241m=\u001b[39m MultiHeadAttention(query, h)\n\u001b[0;32m      9\u001b[0m ffn \u001b[38;5;241m=\u001b[39m FeedForwardNetwork()\n\u001b[1;32m---> 10\u001b[0m \u001b[38;5;28;01mreturn\u001b[39;00m ffn\u001b[38;5;241m.\u001b[39mforward(\u001b[43mattn\u001b[49m\u001b[38;5;241;43m.\u001b[39;49m\u001b[43mforward\u001b[49m\u001b[43m(\u001b[49m\u001b[43mquery\u001b[49m\u001b[43m,\u001b[49m\u001b[43m \u001b[49m\u001b[43mweights\u001b[49m\u001b[43m)\u001b[49m)\n",
      "File \u001b[1;32mc:\\Users\\susan\\OneDrive\\Documents\\ML Projects\\Transformer\\MultiHeadAttention.py:26\u001b[0m, in \u001b[0;36mMultiHeadAttention.forward\u001b[1;34m(self, weights, isMask)\u001b[0m\n\u001b[0;32m     25\u001b[0m \u001b[38;5;28;01mdef\u001b[39;00m \u001b[38;5;21mforward\u001b[39m(\u001b[38;5;28mself\u001b[39m, weights: \u001b[38;5;28mtuple\u001b[39m[Tensor], isMask: \u001b[38;5;28mbool\u001b[39m \u001b[38;5;241m=\u001b[39m \u001b[38;5;28;01mFalse\u001b[39;00m) \u001b[38;5;241m-\u001b[39m\u001b[38;5;241m>\u001b[39m Tensor:\n\u001b[1;32m---> 26\u001b[0m     \u001b[38;5;28;43mself\u001b[39;49m\u001b[38;5;241;43m.\u001b[39;49m\u001b[43mset_QKV\u001b[49m\u001b[43m(\u001b[49m\u001b[43mweights\u001b[49m\u001b[43m[\u001b[49m\u001b[43m:\u001b[49m\u001b[38;5;241;43m-\u001b[39;49m\u001b[38;5;241;43m1\u001b[39;49m\u001b[43m]\u001b[49m\u001b[43m)\u001b[49m\n\u001b[0;32m     27\u001b[0m     _,_,d_q \u001b[38;5;241m=\u001b[39m \u001b[38;5;28mself\u001b[39m\u001b[38;5;241m.\u001b[39mQ\u001b[38;5;241m.\u001b[39mshape\n\u001b[0;32m     28\u001b[0m     _,_,d_k \u001b[38;5;241m=\u001b[39m \u001b[38;5;28mself\u001b[39m\u001b[38;5;241m.\u001b[39mK\u001b[38;5;241m.\u001b[39mshape\n",
      "File \u001b[1;32mc:\\Users\\susan\\OneDrive\\Documents\\ML Projects\\Transformer\\MultiHeadAttention.py:21\u001b[0m, in \u001b[0;36mMultiHeadAttention.set_QKV\u001b[1;34m(self, weights)\u001b[0m\n\u001b[0;32m     19\u001b[0m \u001b[38;5;28mprint\u001b[39m(\u001b[38;5;124m\"\u001b[39m\u001b[38;5;124mYES\u001b[39m\u001b[38;5;124m\"\u001b[39m)\n\u001b[0;32m     20\u001b[0m \u001b[38;5;28mprint\u001b[39m(weights)\n\u001b[1;32m---> 21\u001b[0m \u001b[38;5;28mself\u001b[39m\u001b[38;5;241m.\u001b[39mQ \u001b[38;5;241m=\u001b[39m Linear(\u001b[38;5;28mself\u001b[39m\u001b[38;5;241m.\u001b[39mipt)\u001b[38;5;241m.\u001b[39mforward(\u001b[43mweights\u001b[49m\u001b[43m[\u001b[49m\u001b[38;5;241;43m0\u001b[39;49m\u001b[43m]\u001b[49m)\n\u001b[0;32m     22\u001b[0m \u001b[38;5;28mself\u001b[39m\u001b[38;5;241m.\u001b[39mK \u001b[38;5;241m=\u001b[39m Linear(\u001b[38;5;28mself\u001b[39m\u001b[38;5;241m.\u001b[39mipt)\u001b[38;5;241m.\u001b[39mforward(weights[\u001b[38;5;241m1\u001b[39m])\n\u001b[0;32m     23\u001b[0m \u001b[38;5;28mself\u001b[39m\u001b[38;5;241m.\u001b[39mV \u001b[38;5;241m=\u001b[39m Linear(\u001b[38;5;28mself\u001b[39m\u001b[38;5;241m.\u001b[39mipt)\u001b[38;5;241m.\u001b[39mforward(weights[\u001b[38;5;241m2\u001b[39m])\n",
      "\u001b[1;31mIndexError\u001b[0m: index 0 is out of bounds for dimension 0 with size 0"
     ]
    }
   ],
   "source": [
    "transformer = Transformer(encoder_layers=6, decoder_layers=6)\n",
    "outpt_probs = transformer.train(eng_embedded, fr_embedded)\n",
    "print(outpt_probs)\n",
    "\n"
   ]
  },
  {
   "cell_type": "code",
   "execution_count": null,
   "metadata": {},
   "outputs": [],
   "source": []
  }
 ],
 "metadata": {
  "kernelspec": {
   "display_name": "Python 3",
   "language": "python",
   "name": "python3"
  },
  "language_info": {
   "codemirror_mode": {
    "name": "ipython",
    "version": 3
   },
   "file_extension": ".py",
   "mimetype": "text/x-python",
   "name": "python",
   "nbconvert_exporter": "python",
   "pygments_lexer": "ipython3",
   "version": "3.12.0"
  }
 },
 "nbformat": 4,
 "nbformat_minor": 2
}
